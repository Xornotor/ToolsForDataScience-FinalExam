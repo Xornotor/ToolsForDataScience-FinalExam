{
 "cells": [
  {
   "cell_type": "markdown",
   "id": "07cf7a62-1a11-41e1-88ec-13f056008498",
   "metadata": {},
   "source": [
    "# Data Science Tools and Ecosystem"
   ]
  },
  {
   "cell_type": "markdown",
   "id": "289abdf3-04a2-4e5e-8778-14be8f2733e6",
   "metadata": {},
   "source": [
    "## Author:\n",
    "André Paiva"
   ]
  },
  {
   "cell_type": "markdown",
   "id": "115a2af8-9109-42e3-afe3-f622be545dbd",
   "metadata": {},
   "source": [
    "In this notebook, Data Science Tools and Ecosystem are summarized."
   ]
  },
  {
   "cell_type": "markdown",
   "id": "052e8d47-ff60-430b-8594-8b40f337e439",
   "metadata": {},
   "source": [
    "**Objectives:**\n",
    "\n",
    "- List popular languages for Data Science\n",
    "- List popular libraries used by Data Scientists\n",
    "- Show some Data Science Tools on a table\n",
    "- Evaluate some arithmetic expressions in Python"
   ]
  },
  {
   "cell_type": "markdown",
   "id": "7b6255c9-c7ba-4e5a-9d4a-09750d0cbac8",
   "metadata": {},
   "source": [
    "Some of the popular languages that Data Scientists use are:\n",
    "\n",
    "1. Python\n",
    "2. R\n",
    "3. Julia"
   ]
  },
  {
   "cell_type": "markdown",
   "id": "7c79b9a1-87c6-4228-8e5d-2039310f3001",
   "metadata": {},
   "source": [
    "Some of the commonly used libraries used by Data Scientists include:\n",
    "    \n",
    "1. Matplotlib\n",
    "2. Numpy\n",
    "3. Pandas\n",
    "4. Scipy"
   ]
  },
  {
   "cell_type": "markdown",
   "id": "187aad6a-4fee-4920-8c14-65ef93cd0432",
   "metadata": {},
   "source": [
    "| Data Science Tools |\n",
    "|--------------------|\n",
    "| RStudio            |\n",
    "| JupyterLab         |\n",
    "| Spyder             |"
   ]
  },
  {
   "cell_type": "markdown",
   "id": "3fd4e24b-6226-4046-9c06-78ec1217832a",
   "metadata": {},
   "source": [
    "### Below are a few examples of evaluating arithmetic expressions in Python"
   ]
  },
  {
   "cell_type": "code",
   "execution_count": 3,
   "id": "f47fdeb2-8ca2-42d0-99a1-b24114002771",
   "metadata": {
    "tags": []
   },
   "outputs": [
    {
     "data": {
      "text/plain": [
       "17"
      ]
     },
     "execution_count": 3,
     "metadata": {},
     "output_type": "execute_result"
    }
   ],
   "source": [
    "# This is a simple arithmetic expression to multiply then add integers\n",
    "(3*4)+5"
   ]
  },
  {
   "cell_type": "code",
   "execution_count": 4,
   "id": "ec8ec3d0-1984-4361-b924-2c9c8ecfc009",
   "metadata": {
    "tags": []
   },
   "outputs": [
    {
     "data": {
      "text/plain": [
       "3.3333333333333335"
      ]
     },
     "execution_count": 4,
     "metadata": {},
     "output_type": "execute_result"
    }
   ],
   "source": [
    "# This will convert 200 minutes to hours by dividing by 60\n",
    "200 / 60"
   ]
  }
 ],
 "metadata": {
  "kernelspec": {
   "display_name": "Python",
   "language": "python",
   "name": "conda-env-python-py"
  },
  "language_info": {
   "codemirror_mode": {
    "name": "ipython",
    "version": 3
   },
   "file_extension": ".py",
   "mimetype": "text/x-python",
   "name": "python",
   "nbconvert_exporter": "python",
   "pygments_lexer": "ipython3",
   "version": "3.7.12"
  }
 },
 "nbformat": 4,
 "nbformat_minor": 5
}
